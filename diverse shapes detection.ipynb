{
 "cells": [
  {
   "cell_type": "code",
   "execution_count": 1,
   "id": "89cc7cfa",
   "metadata": {},
   "outputs": [],
   "source": [
    "import cv2\n",
    "import numpy as np\n",
    "from matplotlib import pyplot as plt"
   ]
  },
  {
   "cell_type": "code",
   "execution_count": 7,
   "id": "26c1fa9f",
   "metadata": {},
   "outputs": [],
   "source": [
    "img =  cv2.pyrDown(cv2.imread(\"3.jpg\", cv2.IMREAD_UNCHANGED))\n",
    "\n",
    "\n",
    "ret, thresh = cv2.threshold(cv2.cvtColor(img, cv2.COLOR_BGR2GRAY),\n",
    "                             127,255,cv2.THRESH_TOZERO_INV)\n",
    "\n",
    "contours, hier = cv2.findContours(thresh, cv2.RETR_EXTERNAL,\n",
    "                                     cv2.CHAIN_APPROX_SIMPLE)"
   ]
  },
  {
   "cell_type": "code",
   "execution_count": 8,
   "id": "1326d57f",
   "metadata": {},
   "outputs": [
    {
     "name": "stdout",
     "output_type": "stream",
     "text": [
      "[[-1 -1 -1 -1]]\n"
     ]
    }
   ],
   "source": [
    "for hi in hier:\n",
    "    print(hi)"
   ]
  },
  {
   "cell_type": "code",
   "execution_count": 9,
   "id": "c14679bc",
   "metadata": {},
   "outputs": [],
   "source": [
    "black = np.zeros_like(img)\n",
    "\n",
    "for cnt in contours:\n",
    "    epsilon = 0.01 * cv2.arcLength(cnt,True)\n",
    "    approx = cv2.approxPolyDP(cnt,epsilon,True)\n",
    "    hull = cv2.convexHull(cnt)\n",
    "\n",
    "    cv2.drawContours(black, [cnt], -1, (0, 255, 0), 2)\n",
    "    cv2.drawContours(black, [approx], -1, (255, 255, 0), 2)\n",
    "    cv2.drawContours(black, [hull], -1, (0, 0, 255), 2)"
   ]
  },
  {
   "cell_type": "code",
   "execution_count": 10,
   "id": "7856b399",
   "metadata": {},
   "outputs": [],
   "source": [
    "cv2.imshow(\"hull\", black)\n",
    "cv2.waitKey()\n",
    "cv2.destroyAllWindows()"
   ]
  },
  {
   "cell_type": "code",
   "execution_count": 11,
   "id": "999a7985",
   "metadata": {},
   "outputs": [
    {
     "data": {
      "text/plain": [
       "<matplotlib.image.AxesImage at 0x1e77952fb50>"
      ]
     },
     "execution_count": 11,
     "metadata": {},
     "output_type": "execute_result"
    },
    {
     "data": {
      "image/png": "[encoded data removed]",
      "text/plain": [
       "<Figure size 640x480 with 1 Axes>"
      ]
     },
     "metadata": {},
     "output_type": "display_data"
    }
   ],
   "source": [
    "plt.imshow(black)"
   ]
  },
  {
   "cell_type": "code",
   "execution_count": null,
   "id": "b930e7bc",
   "metadata": {},
   "outputs": [],
   "source": []
  }
 ],
 "metadata": {
  "kernelspec": {
   "display_name": "Python 3 (ipykernel)",
   "language": "python",
   "name": "python3"
  },
  "language_info": {
   "codemirror_mode": {
    "name": "ipython",
    "version": 3
   },
   "file_extension": ".py",
   "mimetype": "text/x-python",
   "name": "python",
   "nbconvert_exporter": "python",
   "pygments_lexer": "ipython3",
   "version": "3.9.13"
  }
 },
 "nbformat": 4,
 "nbformat_minor": 5
}
